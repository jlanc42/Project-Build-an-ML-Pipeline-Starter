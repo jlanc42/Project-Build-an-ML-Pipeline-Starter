{
 "cells": [
  {
   "cell_type": "code",
   "execution_count": null,
   "id": "1f72a955",
   "metadata": {
    "scrolled": true,
    "tags": []
   },
   "outputs": [
    {
     "name": "stdout",
     "output_type": "stream",
     "text": [
      "\u001b[33mWARNING: Ignoring invalid distribution -andas (/Users/johnlancaster/opt/anaconda3/envs/nyc_airbnb_dev/lib/python3.10/site-packages)\u001b[0m\u001b[33m\n",
      "\u001b[0mRequirement already satisfied: wandb==0.16.0 in /Users/johnlancaster/opt/anaconda3/envs/nyc_airbnb_dev/lib/python3.10/site-packages (0.16.0)\n",
      "Requirement already satisfied: Click!=8.0.0,>=7.1 in /Users/johnlancaster/opt/anaconda3/envs/nyc_airbnb_dev/lib/python3.10/site-packages (from wandb==0.16.0) (8.1.7)\n",
      "Requirement already satisfied: GitPython!=3.1.29,>=1.0.0 in /Users/johnlancaster/opt/anaconda3/envs/nyc_airbnb_dev/lib/python3.10/site-packages (from wandb==0.16.0) (3.1.43)\n",
      "Requirement already satisfied: requests<3,>=2.0.0 in /Users/johnlancaster/opt/anaconda3/envs/nyc_airbnb_dev/lib/python3.10/site-packages (from wandb==0.16.0) (2.28.2)\n",
      "Requirement already satisfied: psutil>=5.0.0 in /Users/johnlancaster/opt/anaconda3/envs/nyc_airbnb_dev/lib/python3.10/site-packages (from wandb==0.16.0) (6.0.0)\n",
      "Requirement already satisfied: sentry-sdk>=1.0.0 in /Users/johnlancaster/opt/anaconda3/envs/nyc_airbnb_dev/lib/python3.10/site-packages (from wandb==0.16.0) (2.16.0)\n",
      "Requirement already satisfied: docker-pycreds>=0.4.0 in /Users/johnlancaster/opt/anaconda3/envs/nyc_airbnb_dev/lib/python3.10/site-packages (from wandb==0.16.0) (0.4.0)\n",
      "Requirement already satisfied: PyYAML in /Users/johnlancaster/opt/anaconda3/envs/nyc_airbnb_dev/lib/python3.10/site-packages (from wandb==0.16.0) (6.0.2)\n",
      "Requirement already satisfied: setproctitle in /Users/johnlancaster/opt/anaconda3/envs/nyc_airbnb_dev/lib/python3.10/site-packages (from wandb==0.16.0) (1.3.3)\n",
      "Requirement already satisfied: setuptools in /Users/johnlancaster/opt/anaconda3/envs/nyc_airbnb_dev/lib/python3.10/site-packages (from wandb==0.16.0) (75.1.0)\n",
      "Requirement already satisfied: appdirs>=1.4.3 in /Users/johnlancaster/opt/anaconda3/envs/nyc_airbnb_dev/lib/python3.10/site-packages (from wandb==0.16.0) (1.4.4)\n",
      "Requirement already satisfied: protobuf!=4.21.0,<5,>=3.19.0 in /Users/johnlancaster/opt/anaconda3/envs/nyc_airbnb_dev/lib/python3.10/site-packages (from wandb==0.16.0) (4.25.5)\n",
      "Requirement already satisfied: six>=1.4.0 in /Users/johnlancaster/opt/anaconda3/envs/nyc_airbnb_dev/lib/python3.10/site-packages (from docker-pycreds>=0.4.0->wandb==0.16.0) (1.16.0)\n",
      "Requirement already satisfied: gitdb<5,>=4.0.1 in /Users/johnlancaster/opt/anaconda3/envs/nyc_airbnb_dev/lib/python3.10/site-packages (from GitPython!=3.1.29,>=1.0.0->wandb==0.16.0) (4.0.11)\n",
      "Requirement already satisfied: charset-normalizer<4,>=2 in /Users/johnlancaster/opt/anaconda3/envs/nyc_airbnb_dev/lib/python3.10/site-packages (from requests<3,>=2.0.0->wandb==0.16.0) (3.4.0)\n",
      "Requirement already satisfied: idna<4,>=2.5 in /Users/johnlancaster/opt/anaconda3/envs/nyc_airbnb_dev/lib/python3.10/site-packages (from requests<3,>=2.0.0->wandb==0.16.0) (3.10)\n",
      "Requirement already satisfied: urllib3<1.27,>=1.21.1 in /Users/johnlancaster/opt/anaconda3/envs/nyc_airbnb_dev/lib/python3.10/site-packages (from requests<3,>=2.0.0->wandb==0.16.0) (1.26.20)\n",
      "Requirement already satisfied: certifi>=2017.4.17 in /Users/johnlancaster/opt/anaconda3/envs/nyc_airbnb_dev/lib/python3.10/site-packages (from requests<3,>=2.0.0->wandb==0.16.0) (2024.8.30)\n",
      "Requirement already satisfied: smmap<6,>=3.0.1 in /Users/johnlancaster/opt/anaconda3/envs/nyc_airbnb_dev/lib/python3.10/site-packages (from gitdb<5,>=4.0.1->GitPython!=3.1.29,>=1.0.0->wandb==0.16.0) (5.0.1)\n",
      "\u001b[33mWARNING: Ignoring invalid distribution -andas (/Users/johnlancaster/opt/anaconda3/envs/nyc_airbnb_dev/lib/python3.10/site-packages)\u001b[0m\u001b[33m\n",
      "\u001b[0m\u001b[33mWARNING: Ignoring invalid distribution -andas (/Users/johnlancaster/opt/anaconda3/envs/nyc_airbnb_dev/lib/python3.10/site-packages)\u001b[0m\u001b[33m\n",
      "\u001b[0mRequirement already satisfied: pandas-profiling==3.6.2 in /Users/johnlancaster/opt/anaconda3/envs/nyc_airbnb_dev/lib/python3.10/site-packages (3.6.2)\n",
      "Requirement already satisfied: scipy<1.10,>=1.4.1 in /Users/johnlancaster/opt/anaconda3/envs/nyc_airbnb_dev/lib/python3.10/site-packages (from pandas-profiling==3.6.2) (1.9.3)\n",
      "Collecting pandas!=1.4.0,<1.6,>1.1 (from pandas-profiling==3.6.2)\n",
      "  Downloading pandas-1.5.3-cp310-cp310-macosx_10_9_x86_64.whl.metadata (11 kB)\n",
      "Requirement already satisfied: matplotlib<3.7,>=3.2 in /Users/johnlancaster/opt/anaconda3/envs/nyc_airbnb_dev/lib/python3.10/site-packages (from pandas-profiling==3.6.2) (3.6.3)\n",
      "Requirement already satisfied: pydantic<1.11,>=1.8.1 in /Users/johnlancaster/opt/anaconda3/envs/nyc_airbnb_dev/lib/python3.10/site-packages (from pandas-profiling==3.6.2) (1.10.18)\n",
      "Requirement already satisfied: PyYAML<6.1,>=5.0.0 in /Users/johnlancaster/opt/anaconda3/envs/nyc_airbnb_dev/lib/python3.10/site-packages (from pandas-profiling==3.6.2) (6.0.2)\n",
      "Requirement already satisfied: jinja2<3.2,>=2.11.1 in /Users/johnlancaster/opt/anaconda3/envs/nyc_airbnb_dev/lib/python3.10/site-packages (from pandas-profiling==3.6.2) (3.1.4)\n",
      "Requirement already satisfied: visions==0.7.5 in /Users/johnlancaster/opt/anaconda3/envs/nyc_airbnb_dev/lib/python3.10/site-packages (from visions[type_image_path]==0.7.5->pandas-profiling==3.6.2) (0.7.5)\n",
      "Requirement already satisfied: numpy<1.24,>=1.16.0 in /Users/johnlancaster/opt/anaconda3/envs/nyc_airbnb_dev/lib/python3.10/site-packages (from pandas-profiling==3.6.2) (1.23.5)\n",
      "Requirement already satisfied: htmlmin==0.1.12 in /Users/johnlancaster/opt/anaconda3/envs/nyc_airbnb_dev/lib/python3.10/site-packages (from pandas-profiling==3.6.2) (0.1.12)\n",
      "Requirement already satisfied: phik<0.13,>=0.11.1 in /Users/johnlancaster/opt/anaconda3/envs/nyc_airbnb_dev/lib/python3.10/site-packages (from pandas-profiling==3.6.2) (0.12.4)\n",
      "Requirement already satisfied: requests<2.29,>=2.24.0 in /Users/johnlancaster/opt/anaconda3/envs/nyc_airbnb_dev/lib/python3.10/site-packages (from pandas-profiling==3.6.2) (2.28.2)\n",
      "Requirement already satisfied: tqdm<4.65,>=4.48.2 in /Users/johnlancaster/opt/anaconda3/envs/nyc_airbnb_dev/lib/python3.10/site-packages (from pandas-profiling==3.6.2) (4.64.1)\n",
      "Requirement already satisfied: seaborn<0.13,>=0.10.1 in /Users/johnlancaster/opt/anaconda3/envs/nyc_airbnb_dev/lib/python3.10/site-packages (from pandas-profiling==3.6.2) (0.12.2)\n",
      "Requirement already satisfied: multimethod<1.10,>=1.4 in /Users/johnlancaster/opt/anaconda3/envs/nyc_airbnb_dev/lib/python3.10/site-packages (from pandas-profiling==3.6.2) (1.9.1)\n",
      "Requirement already satisfied: statsmodels<0.14,>=0.13.2 in /Users/johnlancaster/opt/anaconda3/envs/nyc_airbnb_dev/lib/python3.10/site-packages (from pandas-profiling==3.6.2) (0.13.5)\n",
      "Requirement already satisfied: typeguard<2.14,>=2.13.2 in /Users/johnlancaster/opt/anaconda3/envs/nyc_airbnb_dev/lib/python3.10/site-packages (from pandas-profiling==3.6.2) (2.13.3)\n",
      "Requirement already satisfied: attrs>=19.3.0 in /Users/johnlancaster/opt/anaconda3/envs/nyc_airbnb_dev/lib/python3.10/site-packages (from visions==0.7.5->visions[type_image_path]==0.7.5->pandas-profiling==3.6.2) (24.2.0)\n",
      "Requirement already satisfied: networkx>=2.4 in /Users/johnlancaster/opt/anaconda3/envs/nyc_airbnb_dev/lib/python3.10/site-packages (from visions==0.7.5->visions[type_image_path]==0.7.5->pandas-profiling==3.6.2) (3.4.2)\n",
      "Requirement already satisfied: tangled-up-in-unicode>=0.0.4 in /Users/johnlancaster/opt/anaconda3/envs/nyc_airbnb_dev/lib/python3.10/site-packages (from visions==0.7.5->visions[type_image_path]==0.7.5->pandas-profiling==3.6.2) (0.2.0)\n",
      "\u001b[33mWARNING: visions 0.7.5 does not provide the extra 'type-image-path'\u001b[0m\u001b[33m\n",
      "\u001b[0mRequirement already satisfied: imagehash in /Users/johnlancaster/opt/anaconda3/envs/nyc_airbnb_dev/lib/python3.10/site-packages (from visions[type_image_path]==0.7.5->pandas-profiling==3.6.2) (4.3.1)\n",
      "Requirement already satisfied: Pillow in /Users/johnlancaster/opt/anaconda3/envs/nyc_airbnb_dev/lib/python3.10/site-packages (from visions[type_image_path]==0.7.5->pandas-profiling==3.6.2) (10.4.0)\n",
      "Requirement already satisfied: MarkupSafe>=2.0 in /Users/johnlancaster/opt/anaconda3/envs/nyc_airbnb_dev/lib/python3.10/site-packages (from jinja2<3.2,>=2.11.1->pandas-profiling==3.6.2) (3.0.1)\n",
      "Requirement already satisfied: contourpy>=1.0.1 in /Users/johnlancaster/opt/anaconda3/envs/nyc_airbnb_dev/lib/python3.10/site-packages (from matplotlib<3.7,>=3.2->pandas-profiling==3.6.2) (1.3.0)\n",
      "Requirement already satisfied: cycler>=0.10 in /Users/johnlancaster/opt/anaconda3/envs/nyc_airbnb_dev/lib/python3.10/site-packages (from matplotlib<3.7,>=3.2->pandas-profiling==3.6.2) (0.12.1)\n",
      "Requirement already satisfied: fonttools>=4.22.0 in /Users/johnlancaster/opt/anaconda3/envs/nyc_airbnb_dev/lib/python3.10/site-packages (from matplotlib<3.7,>=3.2->pandas-profiling==3.6.2) (4.54.1)\n",
      "Requirement already satisfied: kiwisolver>=1.0.1 in /Users/johnlancaster/opt/anaconda3/envs/nyc_airbnb_dev/lib/python3.10/site-packages (from matplotlib<3.7,>=3.2->pandas-profiling==3.6.2) (1.4.7)\n",
      "Requirement already satisfied: packaging>=20.0 in /Users/johnlancaster/opt/anaconda3/envs/nyc_airbnb_dev/lib/python3.10/site-packages (from matplotlib<3.7,>=3.2->pandas-profiling==3.6.2) (23.2)\n",
      "Requirement already satisfied: pyparsing>=2.2.1 in /Users/johnlancaster/opt/anaconda3/envs/nyc_airbnb_dev/lib/python3.10/site-packages (from matplotlib<3.7,>=3.2->pandas-profiling==3.6.2) (3.2.0)\n",
      "Requirement already satisfied: python-dateutil>=2.7 in /Users/johnlancaster/opt/anaconda3/envs/nyc_airbnb_dev/lib/python3.10/site-packages (from matplotlib<3.7,>=3.2->pandas-profiling==3.6.2) (2.9.0)\n",
      "Requirement already satisfied: pytz>=2020.1 in /Users/johnlancaster/opt/anaconda3/envs/nyc_airbnb_dev/lib/python3.10/site-packages (from pandas!=1.4.0,<1.6,>1.1->pandas-profiling==3.6.2) (2023.4)\n",
      "Requirement already satisfied: joblib>=0.14.1 in /Users/johnlancaster/opt/anaconda3/envs/nyc_airbnb_dev/lib/python3.10/site-packages (from phik<0.13,>=0.11.1->pandas-profiling==3.6.2) (1.4.2)\n",
      "Requirement already satisfied: typing-extensions>=4.2.0 in /Users/johnlancaster/opt/anaconda3/envs/nyc_airbnb_dev/lib/python3.10/site-packages (from pydantic<1.11,>=1.8.1->pandas-profiling==3.6.2) (4.12.2)\n",
      "Requirement already satisfied: charset-normalizer<4,>=2 in /Users/johnlancaster/opt/anaconda3/envs/nyc_airbnb_dev/lib/python3.10/site-packages (from requests<2.29,>=2.24.0->pandas-profiling==3.6.2) (3.4.0)\n",
      "Requirement already satisfied: idna<4,>=2.5 in /Users/johnlancaster/opt/anaconda3/envs/nyc_airbnb_dev/lib/python3.10/site-packages (from requests<2.29,>=2.24.0->pandas-profiling==3.6.2) (3.10)\n",
      "Requirement already satisfied: urllib3<1.27,>=1.21.1 in /Users/johnlancaster/opt/anaconda3/envs/nyc_airbnb_dev/lib/python3.10/site-packages (from requests<2.29,>=2.24.0->pandas-profiling==3.6.2) (1.26.20)\n",
      "Requirement already satisfied: certifi>=2017.4.17 in /Users/johnlancaster/opt/anaconda3/envs/nyc_airbnb_dev/lib/python3.10/site-packages (from requests<2.29,>=2.24.0->pandas-profiling==3.6.2) (2024.8.30)\n",
      "Requirement already satisfied: patsy>=0.5.2 in /Users/johnlancaster/opt/anaconda3/envs/nyc_airbnb_dev/lib/python3.10/site-packages (from statsmodels<0.14,>=0.13.2->pandas-profiling==3.6.2) (0.5.6)\n",
      "Requirement already satisfied: six in /Users/johnlancaster/opt/anaconda3/envs/nyc_airbnb_dev/lib/python3.10/site-packages (from patsy>=0.5.2->statsmodels<0.14,>=0.13.2->pandas-profiling==3.6.2) (1.16.0)\n",
      "Requirement already satisfied: PyWavelets in /Users/johnlancaster/opt/anaconda3/envs/nyc_airbnb_dev/lib/python3.10/site-packages (from imagehash->visions[type_image_path]==0.7.5->pandas-profiling==3.6.2) (1.7.0)\n",
      "Downloading pandas-1.5.3-cp310-cp310-macosx_10_9_x86_64.whl (12.0 MB)\n",
      "\u001b[2K   \u001b[90m━━━━━━━━━━━━━━━━━━━━━━━━━━━━━━━━━━━━━━━━\u001b[0m \u001b[32m12.0/12.0 MB\u001b[0m \u001b[31m6.3 MB/s\u001b[0m eta \u001b[36m0:00:00\u001b[0m00:01\u001b[0m00:01\u001b[0m\n",
      "\u001b[?25h\u001b[33mWARNING: Ignoring invalid distribution -andas (/Users/johnlancaster/opt/anaconda3/envs/nyc_airbnb_dev/lib/python3.10/site-packages)\u001b[0m\u001b[33m\n",
      "\u001b[0mInstalling collected packages: pandas\n",
      "  Attempting uninstall: pandas\n",
      "    Found existing installation: pandas 2.1.3\n",
      "    Uninstalling pandas-2.1.3:\n",
      "      Successfully uninstalled pandas-2.1.3\n",
      "Successfully installed pandas-1.5.3\n",
      "\u001b[33mWARNING: Ignoring invalid distribution -andas (/Users/johnlancaster/opt/anaconda3/envs/nyc_airbnb_dev/lib/python3.10/site-packages)\u001b[0m\u001b[33m\n",
      "\u001b[0mCollecting pandas==2.1.3\n",
      "  Downloading pandas-2.1.3-cp310-cp310-macosx_10_9_x86_64.whl.metadata (18 kB)\n",
      "Requirement already satisfied: numpy<2,>=1.22.4 in /Users/johnlancaster/opt/anaconda3/envs/nyc_airbnb_dev/lib/python3.10/site-packages (from pandas==2.1.3) (1.23.5)\n",
      "Requirement already satisfied: python-dateutil>=2.8.2 in /Users/johnlancaster/opt/anaconda3/envs/nyc_airbnb_dev/lib/python3.10/site-packages (from pandas==2.1.3) (2.9.0)\n",
      "Requirement already satisfied: pytz>=2020.1 in /Users/johnlancaster/opt/anaconda3/envs/nyc_airbnb_dev/lib/python3.10/site-packages (from pandas==2.1.3) (2023.4)\n",
      "Requirement already satisfied: tzdata>=2022.1 in /Users/johnlancaster/opt/anaconda3/envs/nyc_airbnb_dev/lib/python3.10/site-packages (from pandas==2.1.3) (2024.2)\n",
      "Requirement already satisfied: six>=1.5 in /Users/johnlancaster/opt/anaconda3/envs/nyc_airbnb_dev/lib/python3.10/site-packages (from python-dateutil>=2.8.2->pandas==2.1.3) (1.16.0)\n",
      "Downloading pandas-2.1.3-cp310-cp310-macosx_10_9_x86_64.whl (11.7 MB)\n",
      "\u001b[2K   \u001b[90m━━━━━━━━━━━━━━━━━━━━━━━━━━━━━━━━━━━━━━━━\u001b[0m \u001b[32m11.7/11.7 MB\u001b[0m \u001b[31m8.8 MB/s\u001b[0m eta \u001b[36m0:00:00\u001b[0m:00:01\u001b[0m00:01\u001b[0m\n",
      "\u001b[?25h\u001b[33mWARNING: Ignoring invalid distribution -andas (/Users/johnlancaster/opt/anaconda3/envs/nyc_airbnb_dev/lib/python3.10/site-packages)\u001b[0m\u001b[33m\n",
      "\u001b[0mInstalling collected packages: pandas\n",
      "  Attempting uninstall: pandas\n",
      "    Found existing installation: pandas 1.5.3\n",
      "    Uninstalling pandas-1.5.3:\n",
      "      Successfully uninstalled pandas-1.5.3\n"
     ]
    }
   ],
   "source": [
    "!pip install wandb==0.16.0\n",
    "!pip install pandas-profiling==3.6.2\n",
    "!pip install pandas==2.1.3"
   ]
  },
  {
   "cell_type": "markdown",
   "id": "54c4f98a",
   "metadata": {},
   "source": [
    "1. Fetch the artifact we just created (sample.csv) from W&B and read it with pandas:"
   ]
  },
  {
   "cell_type": "code",
   "execution_count": null,
   "id": "eed98c34",
   "metadata": {},
   "outputs": [],
   "source": [
    "import wandb\n",
    "import pandas as pd\n",
    "# Note that we use save_code=True in the call to wandb.init so the notebook is uploaded and versioned by W&B\n",
    "run = wandb.init(project=\"nyc_airbnb\", group=\"eda\", save_code=True)\n",
    "local_path = wandb.use_artifact(\"sample.csv:latest\").file()\n",
    "df = pd.read_csv(local_path)"
   ]
  },
  {
   "cell_type": "markdown",
   "id": "472b8c0d",
   "metadata": {},
   "source": [
    "2. Explore the data in df"
   ]
  },
  {
   "cell_type": "code",
   "execution_count": null,
   "id": "e7902159",
   "metadata": {},
   "outputs": [],
   "source": [
    "df.info()"
   ]
  },
  {
   "cell_type": "code",
   "execution_count": null,
   "id": "ef6f1457",
   "metadata": {},
   "outputs": [],
   "source": [
    "df.describe()"
   ]
  },
  {
   "cell_type": "code",
   "execution_count": null,
   "id": "13548f59",
   "metadata": {},
   "outputs": [],
   "source": [
    "df.head()"
   ]
  },
  {
   "cell_type": "markdown",
   "id": "ecfee692",
   "metadata": {},
   "source": [
    "3. What do you notice in the data? Look around and see what you can find.\n",
    "\n",
    "> For example, there are missing values in a few columns and the column `last_review` is a date but it is in string format. Look also at the `price` column, and note the outliers. There are some zeros and some very high prices. After talking to your stakeholders, you decide to consider from a minimum of `$10` to a maximum of `$350` per night."
   ]
  },
  {
   "cell_type": "markdown",
   "id": "b4bb415f",
   "metadata": {},
   "source": [
    "4. Fix some of the little problems we have found in the data with the following code:"
   ]
  },
  {
   "cell_type": "code",
   "execution_count": null,
   "id": "4d685317",
   "metadata": {},
   "outputs": [],
   "source": [
    "# Drop outliers\n",
    "min_price = 10\n",
    "max_price = 350\n",
    "idx = df['price'].between(min_price, max_price)\n",
    "df = df[idx].copy()\n",
    "# Convert last_review to datetime\n",
    "df['last_review'] = pd.to_datetime(df['last_review'])"
   ]
  },
  {
   "cell_type": "markdown",
   "id": "17990df4",
   "metadata": {},
   "source": [
    "Note how we did not impute missing values. We will do that in the inference pipeline, so we will be able to handle missing values also in production."
   ]
  },
  {
   "cell_type": "markdown",
   "id": "09287f29",
   "metadata": {},
   "source": [
    "5. Check with df.info() that all obvious problems have been solved"
   ]
  },
  {
   "cell_type": "code",
   "execution_count": null,
   "id": "b83b4970",
   "metadata": {},
   "outputs": [],
   "source": [
    "df.info()"
   ]
  },
  {
   "cell_type": "markdown",
   "id": "d727e697",
   "metadata": {},
   "source": [
    "6. Terminate the run by running `run.finish()`"
   ]
  },
  {
   "cell_type": "code",
   "execution_count": null,
   "id": "48b38586",
   "metadata": {},
   "outputs": [],
   "source": [
    "run.finish()"
   ]
  },
  {
   "cell_type": "markdown",
   "id": "13f82b21",
   "metadata": {},
   "source": [
    "7. Save the notebook."
   ]
  },
  {
   "cell_type": "code",
   "execution_count": null,
   "id": "0bed67b5-54bb-49af-ac73-fba40958a5fd",
   "metadata": {},
   "outputs": [],
   "source": []
  },
  {
   "cell_type": "code",
   "execution_count": null,
   "id": "f235e898-0834-4f15-8ad2-aeff0fffbd8c",
   "metadata": {},
   "outputs": [],
   "source": []
  },
  {
   "cell_type": "code",
   "execution_count": null,
   "id": "30a970a8-c5ff-4f8b-9aca-545f38733a39",
   "metadata": {},
   "outputs": [],
   "source": []
  },
  {
   "cell_type": "code",
   "execution_count": null,
   "id": "a9e1065c-9cf3-4027-a8d6-96841a0903b3",
   "metadata": {},
   "outputs": [],
   "source": []
  },
  {
   "cell_type": "code",
   "execution_count": null,
   "id": "1f168e53-386b-4c03-af60-e539cdd48975",
   "metadata": {},
   "outputs": [],
   "source": []
  }
 ],
 "metadata": {
  "kernelspec": {
   "display_name": "Python 3 (ipykernel)",
   "language": "python",
   "name": "python3"
  },
  "language_info": {
   "codemirror_mode": {
    "name": "ipython",
    "version": 3
   },
   "file_extension": ".py",
   "mimetype": "text/x-python",
   "name": "python",
   "nbconvert_exporter": "python",
   "pygments_lexer": "ipython3",
   "version": "3.10.15"
  }
 },
 "nbformat": 4,
 "nbformat_minor": 5
}
